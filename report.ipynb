{
 "cells": [
  {
   "cell_type": "markdown",
   "metadata": {},
   "source": [
    "# Report"
   ]
  },
  {
   "cell_type": "markdown",
   "metadata": {},
   "source": [
    "## Which insights did you gain from your EDA? Were any columns highly correlated? If so, name them.\n",
    "+ Pop, Country and Blues are the top 3 genres in this dataset.\n",
    "+ The number of songs increased with each decade. There was a slight dip from the 1980s to the 1990s, but the trend regained footing after 1990s. + The majority of songs come from the 2010s.\n",
    "+ The songs are broken down into 8 different topics. `sadness` is the most popular topic. \n",
    "+ The 1980s and 2000s are the two decades with the most songs.\n",
    "+ Johnny Cash and Ella Fitzgerald are the two 2 artists, based on song count. Dean Martin is not too far behind. \n",
    "+ Pop Music has the highest count of `obscenity`, `sadness`, `violence` and `world/life` themes. \n",
    "+ Pop Music consistently leads the genres across all decades with Country Music not too far behind. \n",
    "+ Obscene Music climbed dramatically from a meager start in the 1950s to the highest topic by the 2010s."
   ]
  },
  {
   "cell_type": "markdown",
   "metadata": {},
   "source": [
    "## How did you determine which columns to drop or keep? If your EDA informed this process, explain which insights you used to determine which columns were not needed. \n",
    "\n",
    "+ I dropped all non-numerical columns\n",
    "+ I dropped the `Unnamed:0` column because it not serve any purpose\n",
    "+ I also dropped `release_date` because the dataset already had a column called `age`, which matched the time data in `release_date`"
   ]
  },
  {
   "cell_type": "markdown",
   "metadata": {},
   "source": [
    "## What was the optimal number of clusters in your cluster model? Explain how you determined this value.\n",
    "\n",
    "+ The optimal number in my KMeans Without Scaling is 2. I determined this value by comparing the Elbow Plot and Silhouette Plot.\n",
    "+ The optimal number in my KMeans With Scaling is 10. I determined this value by comparing the values from the Elbow Plot and Silhouette Plot. I tend to lean towards the Silhouette Plot for a more concrete footing on k values. \n"
   ]
  },
  {
   "cell_type": "markdown",
   "metadata": {},
   "source": [
    "## Take a look at the respective songs that fell into your clusters. Describe these clusters in human terms to the best of your ability using the columns in your dataset (for example high-gospel songs, low-gospel songs, etc). Feel free to listen to these songs as well to get a sense of what nuance your algorithm picked up on.\n",
    "\n",
    "+ The clusters were a good mix of old and recent songs, as well as feel good music and songs that hit the spot when a listener needs a pick-me-up.\n",
    "+ Cluster 1 stood out because it had a good mix of `reggae`, `pop` and `blues`. Artists like Lady Saw, Elton John and Snoop Dogg make this cluster very diverse. \n",
    "+ Clusters 3, 4, 6 and 8 stood out for me because they included famous Indian singers like the G.O.A.T(s) Lata Mangeshkar, Asha Bhosle and Mukesh. Most Indo-Caribbeans who grew up in NYC will attest to the unique blend of Indian/Bollywood music with Hip Hop and Pop; and even though these datasets don't really merge and mix the songs, it comes close just by pooling these types together. "
   ]
  },
  {
   "cell_type": "markdown",
   "metadata": {},
   "source": [
    "## Take a look at the clusters that your algorithm assigned to your test samples. Based on these clusters, which songs would you recommend to this user?\n",
    "I would definitely recommend Cluster 0, which scored high on `night/time`, `communication` and `age`. This cluster has some of my favorite genres: reggae, rock (the fairly recent but not-too-recent kind of rock), and 1980s country music. "
   ]
  }
 ],
 "metadata": {
  "language_info": {
   "name": "python"
  }
 },
 "nbformat": 4,
 "nbformat_minor": 2
}
